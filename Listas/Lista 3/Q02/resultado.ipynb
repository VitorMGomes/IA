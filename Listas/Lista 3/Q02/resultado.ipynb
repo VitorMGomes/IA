{
 "cells": [
  {
   "cell_type": "code",
   "execution_count": null,
   "id": "f1469b33",
   "metadata": {},
   "outputs": [
    {
     "name": "stdout",
     "output_type": "stream",
     "text": [
      "Total iguais: 337\n",
      "Total diferentes: 81\n"
     ]
    }
   ],
   "source": [
    "import pandas as pd\n",
    "\n",
    "gender = pd.read_csv(\"../Dados/gender_submission.csv\")\n",
    "submission = pd.read_csv(\"submission.csv\")\n",
    "\n",
    "comparacao = (gender[\"Survived\"] == submission[\"Survived\"])\n",
    "print(\"Total iguais:\", comparacao.sum())\n",
    "print(\"Total diferentes:\", (~comparacao).sum())\n"
   ]
  }
 ],
 "metadata": {
  "kernelspec": {
   "display_name": "venv (3.12.3)",
   "language": "python",
   "name": "python3"
  },
  "language_info": {
   "codemirror_mode": {
    "name": "ipython",
    "version": 3
   },
   "file_extension": ".py",
   "mimetype": "text/x-python",
   "name": "python",
   "nbconvert_exporter": "python",
   "pygments_lexer": "ipython3",
   "version": "3.12.3"
  }
 },
 "nbformat": 4,
 "nbformat_minor": 5
}
